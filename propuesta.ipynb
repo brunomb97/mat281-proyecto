version https://git-lfs.github.com/spec/v1
oid sha256:e1824124ea197579cae2e23106a35f1ed1650f45ba952c55f0c9b517aeeb7228
size 76096528
