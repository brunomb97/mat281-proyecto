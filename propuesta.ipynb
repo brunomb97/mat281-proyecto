version https://git-lfs.github.com/spec/v1
oid sha256:fbe72648fc90d7076217cd30294c40885d0647adea2f7c408fe05d5771c65e91
size 2152221
