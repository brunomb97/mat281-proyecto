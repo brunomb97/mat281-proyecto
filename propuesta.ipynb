version https://git-lfs.github.com/spec/v1
oid sha256:91021a39c79d85e9bbd26acadf337f3fce2dacbf8beaf5aeadd49cb66d10fa7c
size 111738449
