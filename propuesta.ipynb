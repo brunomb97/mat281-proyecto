version https://git-lfs.github.com/spec/v1
oid sha256:6e6ccdf53c4b6a577477815dc4904e89ab605d94a75d48e7549e4892144050d6
size 2107159
