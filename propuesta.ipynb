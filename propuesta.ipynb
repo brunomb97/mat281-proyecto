version https://git-lfs.github.com/spec/v1
oid sha256:7f743975ab3e45457b3fc18f4065d252a407c60e51ee8344b6f8b0843270444e
size 111744450
