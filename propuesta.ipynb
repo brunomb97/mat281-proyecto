version https://git-lfs.github.com/spec/v1
oid sha256:4ed5787a3f2c12cabda1f3c15466fdc376c94995610fa5bc316d4072b5eb009e
size 2193717
