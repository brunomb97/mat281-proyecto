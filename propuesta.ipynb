version https://git-lfs.github.com/spec/v1
oid sha256:fec050eac0e89448dbf27a87a74faa1404cc4d5b20257e161df7d4e9d0db26f8
size 111741927
