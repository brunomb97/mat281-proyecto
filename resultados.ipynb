{
 "cells": [
  {
   "cell_type": "markdown",
   "metadata": {},
   "source": [
    "<header>\n",
    "<img src=\"https://upload.wikimedia.org/wikipedia/commons/4/47/Logo_UTFSM.png\" width=150 alt=\"UTFSM\" align=\"left\"/>\n",
    "<img src=\"./images/dmat.png\" width = 180 alt=\"DMAT\" align=\"right\" style=\"margin:20px 0px\"/>\n",
    "</header>\n",
    "\n",
    "<p style=\"font-size:50px;text-align:center;margin:25px 0px\">Protein Data Bank</p>"
   ]
  },
  {
   "cell_type": "markdown",
   "metadata": {},
   "source": [
    "---\n",
    "\n",
    "## Cristóbal Cancino, Tomás Cortés, Bruno Martinez\n",
    "Aplicaciones de la Matemática en la Ingeniería - MAT281 </br>\n",
    "**Profesor**: Alonso Ogueda </br>\n",
    "Universidad Técnica Federico Santa María\n",
    "\n",
    "---"
   ]
  },
  {
   "cell_type": "markdown",
   "metadata": {},
   "source": [
    "# Definición del problema"
   ]
  },
  {
   "cell_type": "markdown",
   "metadata": {},
   "source": [
    "> Se utilizará una base de datos sobre proteinas entregada por _Research Collaboratory for Structural Bioinformatics (RCSB)_ de _Protein Data Bank (PDB)_, la cual es un depósito de coordenadas atómicas y otra información que describe proteínas y otras macromoléculas biológicas importantes. Los biólogos estructurales utilizan métodos como la cristalografía de rayos X, la espectroscopia de RMN y la microscopía crioelectrónica para determinar la ubicación de cada átomo en relación con los demás en la molécula. Luego depositan esta información, que luego es anotada y publicada públicamente en el archivo por wwPDB.\n",
    ">\n",
    ">> ### Motivación \n",
    "El PDB en constante crecimiento es un reflejo de la investigación que se lleva a cabo en los laboratorios de todo el mundo. Esto puede hacer que el uso de la base de datos en la investigación y la educación sea emocionante y desafiante. Las estructuras están disponibles para muchas de las proteínas y ácidos nucleicos involucrados en los procesos centrales de la vida, por lo que puede ir al archivo de PDB para encontrar estructuras para ribosomas, oncogenes, dianas de fármacos e incluso virus completos. Sin embargo, puede ser un desafío encontrar la información que necesita, ya que la PDB archiva tantas estructuras diferentes. A menudo encontrará múltiples estructuras para una molécula determinada, o estructuras parciales, o estructuras que han sido modificadas o inactivadas de su forma nativa.\n",
    ">\n",
    "> Recuperado de [Structural Protein Sequence](https://www.kaggle.com/shahir/protein-data-set?select=pdb_data_no_dups.csv)"
   ]
  },
  {
   "cell_type": "code",
   "execution_count": 2,
   "metadata": {},
   "outputs": [],
   "source": [
    "import os\n",
    "import numpy as np\n",
    "import scipy as sp\n",
    "import pandas as pd\n",
    "import matplotlib.pyplot as plt\n",
    "import altair as alt\n",
    "from scipy import stats\n",
    "from scipy.stats import norm, skew, kurtosis\n",
    "import seaborn as sns\n",
    "from sklearn.model_selection import train_test_split"
   ]
  },
  {
   "cell_type": "markdown",
   "metadata": {},
   "source": [
    "## Estudio de la base de datos: pdb_data_no_dups.csv"
   ]
  },
  {
   "cell_type": "code",
   "execution_count": 8,
   "metadata": {},
   "outputs": [
    {
     "data": {
      "text/html": [
       "<div>\n",
       "<style scoped>\n",
       "    .dataframe tbody tr th:only-of-type {\n",
       "        vertical-align: middle;\n",
       "    }\n",
       "\n",
       "    .dataframe tbody tr th {\n",
       "        vertical-align: top;\n",
       "    }\n",
       "\n",
       "    .dataframe thead th {\n",
       "        text-align: right;\n",
       "    }\n",
       "</style>\n",
       "<table border=\"1\" class=\"dataframe\">\n",
       "  <thead>\n",
       "    <tr style=\"text-align: right;\">\n",
       "      <th></th>\n",
       "      <th>structureId</th>\n",
       "      <th>classification</th>\n",
       "      <th>experimentalTechnique</th>\n",
       "      <th>macromoleculeType</th>\n",
       "      <th>residueCount</th>\n",
       "      <th>resolution</th>\n",
       "      <th>structureMolecularWeight</th>\n",
       "      <th>crystallizationMethod</th>\n",
       "      <th>crystallizationTempK</th>\n",
       "      <th>densityMatthews</th>\n",
       "      <th>densityPercentSol</th>\n",
       "      <th>pdbxDetails</th>\n",
       "      <th>phValue</th>\n",
       "      <th>publicationYear</th>\n",
       "    </tr>\n",
       "  </thead>\n",
       "  <tbody>\n",
       "    <tr>\n",
       "      <th>0</th>\n",
       "      <td>100D</td>\n",
       "      <td>DNA-RNA HYBRID</td>\n",
       "      <td>X-RAY DIFFRACTION</td>\n",
       "      <td>DNA/RNA Hybrid</td>\n",
       "      <td>20</td>\n",
       "      <td>1.90</td>\n",
       "      <td>6360.30</td>\n",
       "      <td>VAPOR DIFFUSION, HANGING DROP</td>\n",
       "      <td>NaN</td>\n",
       "      <td>1.78</td>\n",
       "      <td>30.89</td>\n",
       "      <td>pH 7.00, VAPOR DIFFUSION, HANGING DROP</td>\n",
       "      <td>7.0</td>\n",
       "      <td>1994.0</td>\n",
       "    </tr>\n",
       "    <tr>\n",
       "      <th>1</th>\n",
       "      <td>101D</td>\n",
       "      <td>DNA</td>\n",
       "      <td>X-RAY DIFFRACTION</td>\n",
       "      <td>DNA</td>\n",
       "      <td>24</td>\n",
       "      <td>2.25</td>\n",
       "      <td>7939.35</td>\n",
       "      <td>NaN</td>\n",
       "      <td>NaN</td>\n",
       "      <td>2.00</td>\n",
       "      <td>38.45</td>\n",
       "      <td>NaN</td>\n",
       "      <td>NaN</td>\n",
       "      <td>1995.0</td>\n",
       "    </tr>\n",
       "    <tr>\n",
       "      <th>2</th>\n",
       "      <td>101M</td>\n",
       "      <td>OXYGEN TRANSPORT</td>\n",
       "      <td>X-RAY DIFFRACTION</td>\n",
       "      <td>Protein</td>\n",
       "      <td>154</td>\n",
       "      <td>2.07</td>\n",
       "      <td>18112.80</td>\n",
       "      <td>NaN</td>\n",
       "      <td>NaN</td>\n",
       "      <td>3.09</td>\n",
       "      <td>60.20</td>\n",
       "      <td>3.0 M AMMONIUM SULFATE, 20 MM TRIS, 1MM EDTA, ...</td>\n",
       "      <td>9.0</td>\n",
       "      <td>1999.0</td>\n",
       "    </tr>\n",
       "    <tr>\n",
       "      <th>3</th>\n",
       "      <td>102D</td>\n",
       "      <td>DNA</td>\n",
       "      <td>X-RAY DIFFRACTION</td>\n",
       "      <td>DNA</td>\n",
       "      <td>24</td>\n",
       "      <td>2.20</td>\n",
       "      <td>7637.17</td>\n",
       "      <td>VAPOR DIFFUSION, SITTING DROP</td>\n",
       "      <td>277.0</td>\n",
       "      <td>2.28</td>\n",
       "      <td>46.06</td>\n",
       "      <td>pH 7.00, VAPOR DIFFUSION, SITTING DROP, temper...</td>\n",
       "      <td>7.0</td>\n",
       "      <td>1995.0</td>\n",
       "    </tr>\n",
       "    <tr>\n",
       "      <th>4</th>\n",
       "      <td>102L</td>\n",
       "      <td>HYDROLASE(O-GLYCOSYL)</td>\n",
       "      <td>X-RAY DIFFRACTION</td>\n",
       "      <td>Protein</td>\n",
       "      <td>165</td>\n",
       "      <td>1.74</td>\n",
       "      <td>18926.61</td>\n",
       "      <td>NaN</td>\n",
       "      <td>NaN</td>\n",
       "      <td>2.75</td>\n",
       "      <td>55.28</td>\n",
       "      <td>NaN</td>\n",
       "      <td>NaN</td>\n",
       "      <td>1993.0</td>\n",
       "    </tr>\n",
       "  </tbody>\n",
       "</table>\n",
       "</div>"
      ],
      "text/plain": [
       "  structureId         classification experimentalTechnique macromoleculeType  \\\n",
       "0        100D         DNA-RNA HYBRID     X-RAY DIFFRACTION    DNA/RNA Hybrid   \n",
       "1        101D                    DNA     X-RAY DIFFRACTION               DNA   \n",
       "2        101M       OXYGEN TRANSPORT     X-RAY DIFFRACTION           Protein   \n",
       "3        102D                    DNA     X-RAY DIFFRACTION               DNA   \n",
       "4        102L  HYDROLASE(O-GLYCOSYL)     X-RAY DIFFRACTION           Protein   \n",
       "\n",
       "   residueCount  resolution  structureMolecularWeight  \\\n",
       "0            20        1.90                   6360.30   \n",
       "1            24        2.25                   7939.35   \n",
       "2           154        2.07                  18112.80   \n",
       "3            24        2.20                   7637.17   \n",
       "4           165        1.74                  18926.61   \n",
       "\n",
       "           crystallizationMethod  crystallizationTempK  densityMatthews  \\\n",
       "0  VAPOR DIFFUSION, HANGING DROP                   NaN             1.78   \n",
       "1                            NaN                   NaN             2.00   \n",
       "2                            NaN                   NaN             3.09   \n",
       "3  VAPOR DIFFUSION, SITTING DROP                 277.0             2.28   \n",
       "4                            NaN                   NaN             2.75   \n",
       "\n",
       "   densityPercentSol                                        pdbxDetails  \\\n",
       "0              30.89             pH 7.00, VAPOR DIFFUSION, HANGING DROP   \n",
       "1              38.45                                                NaN   \n",
       "2              60.20  3.0 M AMMONIUM SULFATE, 20 MM TRIS, 1MM EDTA, ...   \n",
       "3              46.06  pH 7.00, VAPOR DIFFUSION, SITTING DROP, temper...   \n",
       "4              55.28                                                NaN   \n",
       "\n",
       "   phValue  publicationYear  \n",
       "0      7.0           1994.0  \n",
       "1      NaN           1995.0  \n",
       "2      9.0           1999.0  \n",
       "3      7.0           1995.0  \n",
       "4      NaN           1993.0  "
      ]
     },
     "execution_count": 8,
     "metadata": {},
     "output_type": "execute_result"
    }
   ],
   "source": [
    "data_no_dups_path = os.path.join(\"data\", \"pdb_data_no_dups.csv\")\n",
    "pdb_no_dups = pd.read_csv(data_no_dups_path)\n",
    "#sum(pdb_no_dups['classification'].value_counts()[:10]) / pdb_no_dups['classification'].count()\n",
    "pdb_no_dups.head()"
   ]
  },
  {
   "cell_type": "markdown",
   "metadata": {},
   "source": [
    "> Esta base de datos contiene las siguientes columnas\n",
    ">\n",
    "> 1. **structureid**: Indexación para identificar la estructura en particular.\n",
    "> 2. **clasification**: Estructura en estudio.\n",
    "> 3. **experimentalTechnique**: Técnica usada para determinar la ubicación relativa entre cada átomo de la molecula.\n",
    "> 4. **macromoleculeType**: Tipo de macromolecula correspondiente a la estructura.\n",
    "> 5. **residueCount**: Número de residuos, es decir, el número de monómeros que componen la macromolécula.\n",
    "> 6. **resolution**: Resolución del microscopío. Para cada resolución, se tiene la siguiente interpretación:\n",
    "> \n",
    ">| Resolución | Interpretación                                                                                                                                                                                                              |\n",
    "|------------|-----------------------------------------------------------------------------------------------------------------------------------------------------------------------------------------------------------------------------|\n",
    "| >4.0       | Coordenadas individuales sin significado                                                                                                                                                                                    |\n",
    "| 3.0 - 4.0  | Plegamiento posiblemente correcto, pero comúnmente con errores. Algunas cadenas laterales poseen mal los rotámeros.                                                                                                         |\n",
    "| 2.5 - 3.0  | Plegamiento bien dilucidado salvo en algunos pliegues superficiales, mal modelados. Algunas cadenas laterales largas (Lys, Glu, Gln) y otras cortas (Ser, Val, Thr) mal orientadas.                                        |\n",
    "| 2.0 - 2.5  | El número de cadenas laterales con un rotámero incorrecto es mucho menor. Los errores, pequeños, son detectados normalmente. Los pliegues superficiales están bastante bien definidos. Los ligandos y el agua son visibles. |\n",
    "| 1.5 - 2.0  | Pocos residuos poseen mal rotámero. Los errores pequeños son detectados. Los pliegues incorrectos son muy raros, incluso en superficie.                                                                                     |\n",
    "| 0.5 - 1.5  | En general, todo está corrctamente resuelto. Las librerías de rotámeros y los estudios geométricos se hacen a este nivel de precisión.                                                                                      |\n",
    ">\n",
    ">7. **structureMoleculeWeight**: Masa molar de la estructura\n",
    ">8. **cristalizationMethod**: Método de critalización. Aquellos experimentos que no consideran cristalización les corresponde NaN.\n",
    ">9. **crystalizationTemperature**: Temperatura de cristalización. Idem.\n",
    ">10. **densityMatthews**: Densidad de Matthews, dada por $$\\frac{\\text{volumen}}{\\text{peso molecular} * Z * X},$$ donde $Z$ es el número de unidades asimétricas en la unidad celular y $X$ es el número de moleculas en la unidad asimétrica.\n",
    ">11. **densitityPercentSol**: Porcentaje de densidad de la solución.\n",
    ">12. **pdbxDetails**: Detalles extra del experimento.\n",
    ">13. **phValue**: Valor del pH.\n",
    ">14. **publicationYear**: Año de publicación."
   ]
  },
  {
   "cell_type": "markdown",
   "metadata": {},
   "source": [
    "## Estudio de la base de datos pdb_data_seq.csv"
   ]
  },
  {
   "cell_type": "code",
   "execution_count": 6,
   "metadata": {},
   "outputs": [
    {
     "data": {
      "text/html": [
       "<div>\n",
       "<style scoped>\n",
       "    .dataframe tbody tr th:only-of-type {\n",
       "        vertical-align: middle;\n",
       "    }\n",
       "\n",
       "    .dataframe tbody tr th {\n",
       "        vertical-align: top;\n",
       "    }\n",
       "\n",
       "    .dataframe thead th {\n",
       "        text-align: right;\n",
       "    }\n",
       "</style>\n",
       "<table border=\"1\" class=\"dataframe\">\n",
       "  <thead>\n",
       "    <tr style=\"text-align: right;\">\n",
       "      <th></th>\n",
       "      <th>structureId</th>\n",
       "      <th>chainId</th>\n",
       "      <th>sequence</th>\n",
       "      <th>residueCount</th>\n",
       "      <th>macromoleculeType</th>\n",
       "    </tr>\n",
       "  </thead>\n",
       "  <tbody>\n",
       "    <tr>\n",
       "      <th>0</th>\n",
       "      <td>100D</td>\n",
       "      <td>A</td>\n",
       "      <td>CCGGCGCCGG</td>\n",
       "      <td>20</td>\n",
       "      <td>DNA/RNA Hybrid</td>\n",
       "    </tr>\n",
       "    <tr>\n",
       "      <th>1</th>\n",
       "      <td>100D</td>\n",
       "      <td>B</td>\n",
       "      <td>CCGGCGCCGG</td>\n",
       "      <td>20</td>\n",
       "      <td>DNA/RNA Hybrid</td>\n",
       "    </tr>\n",
       "    <tr>\n",
       "      <th>2</th>\n",
       "      <td>101D</td>\n",
       "      <td>A</td>\n",
       "      <td>CGCGAATTCGCG</td>\n",
       "      <td>24</td>\n",
       "      <td>DNA</td>\n",
       "    </tr>\n",
       "    <tr>\n",
       "      <th>3</th>\n",
       "      <td>101D</td>\n",
       "      <td>B</td>\n",
       "      <td>CGCGAATTCGCG</td>\n",
       "      <td>24</td>\n",
       "      <td>DNA</td>\n",
       "    </tr>\n",
       "    <tr>\n",
       "      <th>4</th>\n",
       "      <td>101M</td>\n",
       "      <td>A</td>\n",
       "      <td>MVLSEGEWQLVLHVWAKVEADVAGHGQDILIRLFKSHPETLEKFDR...</td>\n",
       "      <td>154</td>\n",
       "      <td>Protein</td>\n",
       "    </tr>\n",
       "  </tbody>\n",
       "</table>\n",
       "</div>"
      ],
      "text/plain": [
       "  structureId chainId                                           sequence  \\\n",
       "0        100D       A                                         CCGGCGCCGG   \n",
       "1        100D       B                                         CCGGCGCCGG   \n",
       "2        101D       A                                       CGCGAATTCGCG   \n",
       "3        101D       B                                       CGCGAATTCGCG   \n",
       "4        101M       A  MVLSEGEWQLVLHVWAKVEADVAGHGQDILIRLFKSHPETLEKFDR...   \n",
       "\n",
       "   residueCount macromoleculeType  \n",
       "0            20    DNA/RNA Hybrid  \n",
       "1            20    DNA/RNA Hybrid  \n",
       "2            24               DNA  \n",
       "3            24               DNA  \n",
       "4           154           Protein  "
      ]
     },
     "execution_count": 6,
     "metadata": {},
     "output_type": "execute_result"
    }
   ],
   "source": [
    "data_seq_path = os.path.join(\"data\", \"pdb_data_seq.csv\")\n",
    "pdb_seq = pd.read_csv(data_seq_path)\n",
    "pdb_seq.head()"
   ]
  },
  {
   "cell_type": "markdown",
   "metadata": {},
   "source": [
    ">Esta base de datos contiene las siguientes columnas\n",
    ">\n",
    ">1. **structureid**: Indexación para identificar la estructura en particular.\n",
    ">2. **chainId**: Cadena de la estructura.\n",
    ">3. **sequence**: Secuencia molecular de la macromolécula.\n",
    ">4. **macromoleculeType**: Tipo de macromolecula correspondiente a la estructura\n",
    ">5. **residueCount**: Número de residuos, es decir, el número de monómeros que componen la macromolécula.\n",
    "\n",
    "---"
   ]
  },
  {
   "cell_type": "markdown",
   "metadata": {},
   "source": [
    "# ¿Cuál es la pregunta que deseamos resolver?\n",
    "\n",
    "> ¿Podemos predecir la columna ``sequence`` o la columna ``clasification`` utilizando el resto de features mediante modelos?\n",
    "\n",
    "---"
   ]
  },
  {
   "cell_type": "markdown",
   "metadata": {},
   "source": [
    "# Análisis estadístico de los datos.\n",
    "\n",
    "### pdb_data_no_dups.csv"
   ]
  },
  {
   "cell_type": "code",
   "execution_count": 9,
   "metadata": {},
   "outputs": [
    {
     "data": {
      "text/html": [
       "<div>\n",
       "<style scoped>\n",
       "    .dataframe tbody tr th:only-of-type {\n",
       "        vertical-align: middle;\n",
       "    }\n",
       "\n",
       "    .dataframe tbody tr th {\n",
       "        vertical-align: top;\n",
       "    }\n",
       "\n",
       "    .dataframe thead th {\n",
       "        text-align: right;\n",
       "    }\n",
       "</style>\n",
       "<table border=\"1\" class=\"dataframe\">\n",
       "  <thead>\n",
       "    <tr style=\"text-align: right;\">\n",
       "      <th></th>\n",
       "      <th>count</th>\n",
       "      <th>unique</th>\n",
       "      <th>top</th>\n",
       "      <th>freq</th>\n",
       "      <th>mean</th>\n",
       "      <th>std</th>\n",
       "      <th>min</th>\n",
       "      <th>25%</th>\n",
       "      <th>50%</th>\n",
       "      <th>75%</th>\n",
       "      <th>max</th>\n",
       "    </tr>\n",
       "  </thead>\n",
       "  <tbody>\n",
       "    <tr>\n",
       "      <th>structureId</th>\n",
       "      <td>141401.0</td>\n",
       "      <td>140911</td>\n",
       "      <td>1UJQ</td>\n",
       "      <td>4</td>\n",
       "      <td></td>\n",
       "      <td></td>\n",
       "      <td></td>\n",
       "      <td></td>\n",
       "      <td></td>\n",
       "      <td></td>\n",
       "      <td></td>\n",
       "    </tr>\n",
       "    <tr>\n",
       "      <th>classification</th>\n",
       "      <td>141399.0</td>\n",
       "      <td>5050</td>\n",
       "      <td>HYDROLASE</td>\n",
       "      <td>20915</td>\n",
       "      <td></td>\n",
       "      <td></td>\n",
       "      <td></td>\n",
       "      <td></td>\n",
       "      <td></td>\n",
       "      <td></td>\n",
       "      <td></td>\n",
       "    </tr>\n",
       "    <tr>\n",
       "      <th>experimentalTechnique</th>\n",
       "      <td>141401.0</td>\n",
       "      <td>33</td>\n",
       "      <td>X-RAY DIFFRACTION</td>\n",
       "      <td>126432</td>\n",
       "      <td></td>\n",
       "      <td></td>\n",
       "      <td></td>\n",
       "      <td></td>\n",
       "      <td></td>\n",
       "      <td></td>\n",
       "      <td></td>\n",
       "    </tr>\n",
       "    <tr>\n",
       "      <th>macromoleculeType</th>\n",
       "      <td>137636.0</td>\n",
       "      <td>13</td>\n",
       "      <td>Protein</td>\n",
       "      <td>127798</td>\n",
       "      <td></td>\n",
       "      <td></td>\n",
       "      <td></td>\n",
       "      <td></td>\n",
       "      <td></td>\n",
       "      <td></td>\n",
       "      <td></td>\n",
       "    </tr>\n",
       "    <tr>\n",
       "      <th>residueCount</th>\n",
       "      <td>141401.0</td>\n",
       "      <td></td>\n",
       "      <td></td>\n",
       "      <td></td>\n",
       "      <td>825.375</td>\n",
       "      <td>2136.46</td>\n",
       "      <td>0</td>\n",
       "      <td>226</td>\n",
       "      <td>414</td>\n",
       "      <td>820</td>\n",
       "      <td>313236</td>\n",
       "    </tr>\n",
       "    <tr>\n",
       "      <th>resolution</th>\n",
       "      <td>128589.0</td>\n",
       "      <td></td>\n",
       "      <td></td>\n",
       "      <td></td>\n",
       "      <td>2.26381</td>\n",
       "      <td>1.41088</td>\n",
       "      <td>0.48</td>\n",
       "      <td>1.8</td>\n",
       "      <td>2.1</td>\n",
       "      <td>2.5</td>\n",
       "      <td>70</td>\n",
       "    </tr>\n",
       "    <tr>\n",
       "      <th>structureMolecularWeight</th>\n",
       "      <td>141401.0</td>\n",
       "      <td></td>\n",
       "      <td></td>\n",
       "      <td></td>\n",
       "      <td>112079</td>\n",
       "      <td>569015</td>\n",
       "      <td>314.38</td>\n",
       "      <td>26128.6</td>\n",
       "      <td>47477.8</td>\n",
       "      <td>94084.8</td>\n",
       "      <td>9.77305e+07</td>\n",
       "    </tr>\n",
       "    <tr>\n",
       "      <th>crystallizationMethod</th>\n",
       "      <td>96242.0</td>\n",
       "      <td>549</td>\n",
       "      <td>VAPOR DIFFUSION, HANGING DROP</td>\n",
       "      <td>53870</td>\n",
       "      <td></td>\n",
       "      <td></td>\n",
       "      <td></td>\n",
       "      <td></td>\n",
       "      <td></td>\n",
       "      <td></td>\n",
       "      <td></td>\n",
       "    </tr>\n",
       "    <tr>\n",
       "      <th>crystallizationTempK</th>\n",
       "      <td>97039.0</td>\n",
       "      <td></td>\n",
       "      <td></td>\n",
       "      <td></td>\n",
       "      <td>290.968</td>\n",
       "      <td>9.54108</td>\n",
       "      <td>4</td>\n",
       "      <td>290</td>\n",
       "      <td>293</td>\n",
       "      <td>295</td>\n",
       "      <td>398</td>\n",
       "    </tr>\n",
       "    <tr>\n",
       "      <th>densityMatthews</th>\n",
       "      <td>124724.0</td>\n",
       "      <td></td>\n",
       "      <td></td>\n",
       "      <td></td>\n",
       "      <td>2.67027</td>\n",
       "      <td>0.78374</td>\n",
       "      <td>0</td>\n",
       "      <td>2.21</td>\n",
       "      <td>2.49</td>\n",
       "      <td>2.91</td>\n",
       "      <td>99</td>\n",
       "    </tr>\n",
       "    <tr>\n",
       "      <th>densityPercentSol</th>\n",
       "      <td>124749.0</td>\n",
       "      <td></td>\n",
       "      <td></td>\n",
       "      <td></td>\n",
       "      <td>51.3532</td>\n",
       "      <td>10.1046</td>\n",
       "      <td>0</td>\n",
       "      <td>44.37</td>\n",
       "      <td>50.5</td>\n",
       "      <td>57.71</td>\n",
       "      <td>92</td>\n",
       "    </tr>\n",
       "    <tr>\n",
       "      <th>pdbxDetails</th>\n",
       "      <td>118534.0</td>\n",
       "      <td>91025</td>\n",
       "      <td>pH 7.5</td>\n",
       "      <td>361</td>\n",
       "      <td></td>\n",
       "      <td></td>\n",
       "      <td></td>\n",
       "      <td></td>\n",
       "      <td></td>\n",
       "      <td></td>\n",
       "      <td></td>\n",
       "    </tr>\n",
       "    <tr>\n",
       "      <th>phValue</th>\n",
       "      <td>105110.0</td>\n",
       "      <td></td>\n",
       "      <td></td>\n",
       "      <td></td>\n",
       "      <td>6.78869</td>\n",
       "      <td>2.55682</td>\n",
       "      <td>0</td>\n",
       "      <td>6</td>\n",
       "      <td>7</td>\n",
       "      <td>7.5</td>\n",
       "      <td>724</td>\n",
       "    </tr>\n",
       "    <tr>\n",
       "      <th>publicationYear</th>\n",
       "      <td>117602.0</td>\n",
       "      <td></td>\n",
       "      <td></td>\n",
       "      <td></td>\n",
       "      <td>2008.92</td>\n",
       "      <td>8.45929</td>\n",
       "      <td>201</td>\n",
       "      <td>2005</td>\n",
       "      <td>2010</td>\n",
       "      <td>2014</td>\n",
       "      <td>2018</td>\n",
       "    </tr>\n",
       "  </tbody>\n",
       "</table>\n",
       "</div>"
      ],
      "text/plain": [
       "                             count  unique                            top  \\\n",
       "structureId               141401.0  140911                           1UJQ   \n",
       "classification            141399.0    5050                      HYDROLASE   \n",
       "experimentalTechnique     141401.0      33              X-RAY DIFFRACTION   \n",
       "macromoleculeType         137636.0      13                        Protein   \n",
       "residueCount              141401.0                                          \n",
       "resolution                128589.0                                          \n",
       "structureMolecularWeight  141401.0                                          \n",
       "crystallizationMethod      96242.0     549  VAPOR DIFFUSION, HANGING DROP   \n",
       "crystallizationTempK       97039.0                                          \n",
       "densityMatthews           124724.0                                          \n",
       "densityPercentSol         124749.0                                          \n",
       "pdbxDetails               118534.0   91025                         pH 7.5   \n",
       "phValue                   105110.0                                          \n",
       "publicationYear           117602.0                                          \n",
       "\n",
       "                            freq     mean      std     min      25%      50%  \\\n",
       "structureId                    4                                               \n",
       "classification             20915                                               \n",
       "experimentalTechnique     126432                                               \n",
       "macromoleculeType         127798                                               \n",
       "residueCount                      825.375  2136.46       0      226      414   \n",
       "resolution                        2.26381  1.41088    0.48      1.8      2.1   \n",
       "structureMolecularWeight           112079   569015  314.38  26128.6  47477.8   \n",
       "crystallizationMethod      53870                                               \n",
       "crystallizationTempK              290.968  9.54108       4      290      293   \n",
       "densityMatthews                   2.67027  0.78374       0     2.21     2.49   \n",
       "densityPercentSol                 51.3532  10.1046       0    44.37     50.5   \n",
       "pdbxDetails                  361                                               \n",
       "phValue                           6.78869  2.55682       0        6        7   \n",
       "publicationYear                   2008.92  8.45929     201     2005     2010   \n",
       "\n",
       "                              75%          max  \n",
       "structureId                                     \n",
       "classification                                  \n",
       "experimentalTechnique                           \n",
       "macromoleculeType                               \n",
       "residueCount                  820       313236  \n",
       "resolution                    2.5           70  \n",
       "structureMolecularWeight  94084.8  9.77305e+07  \n",
       "crystallizationMethod                           \n",
       "crystallizationTempK          295          398  \n",
       "densityMatthews              2.91           99  \n",
       "densityPercentSol           57.71           92  \n",
       "pdbxDetails                                     \n",
       "phValue                       7.5          724  \n",
       "publicationYear              2014         2018  "
      ]
     },
     "execution_count": 9,
     "metadata": {},
     "output_type": "execute_result"
    }
   ],
   "source": [
    "pdb_no_dups.describe(include=\"all\").T.fillna(\"\")"
   ]
  },
  {
   "cell_type": "code",
   "execution_count": 10,
   "metadata": {},
   "outputs": [
    {
     "data": {
      "text/plain": [
       "structureId                  object\n",
       "classification               object\n",
       "experimentalTechnique        object\n",
       "macromoleculeType            object\n",
       "residueCount                  int64\n",
       "resolution                  float64\n",
       "structureMolecularWeight    float64\n",
       "crystallizationMethod        object\n",
       "crystallizationTempK        float64\n",
       "densityMatthews             float64\n",
       "densityPercentSol           float64\n",
       "pdbxDetails                  object\n",
       "phValue                     float64\n",
       "publicationYear             float64\n",
       "dtype: object"
      ]
     },
     "execution_count": 10,
     "metadata": {},
     "output_type": "execute_result"
    }
   ],
   "source": [
    "pdb_no_dups.dtypes"
   ]
  },
  {
   "cell_type": "markdown",
   "metadata": {},
   "source": [
    "### pdb_data_no_dups.csv"
   ]
  },
  {
   "cell_type": "code",
   "execution_count": 11,
   "metadata": {},
   "outputs": [
    {
     "data": {
      "text/html": [
       "<div>\n",
       "<style scoped>\n",
       "    .dataframe tbody tr th:only-of-type {\n",
       "        vertical-align: middle;\n",
       "    }\n",
       "\n",
       "    .dataframe tbody tr th {\n",
       "        vertical-align: top;\n",
       "    }\n",
       "\n",
       "    .dataframe thead th {\n",
       "        text-align: right;\n",
       "    }\n",
       "</style>\n",
       "<table border=\"1\" class=\"dataframe\">\n",
       "  <thead>\n",
       "    <tr style=\"text-align: right;\">\n",
       "      <th></th>\n",
       "      <th>count</th>\n",
       "      <th>unique</th>\n",
       "      <th>top</th>\n",
       "      <th>freq</th>\n",
       "      <th>mean</th>\n",
       "      <th>std</th>\n",
       "      <th>min</th>\n",
       "      <th>25%</th>\n",
       "      <th>50%</th>\n",
       "      <th>75%</th>\n",
       "      <th>max</th>\n",
       "    </tr>\n",
       "  </thead>\n",
       "  <tbody>\n",
       "    <tr>\n",
       "      <th>structureId</th>\n",
       "      <td>467304.0</td>\n",
       "      <td>140250</td>\n",
       "      <td>3J3Q</td>\n",
       "      <td>1356</td>\n",
       "      <td></td>\n",
       "      <td></td>\n",
       "      <td></td>\n",
       "      <td></td>\n",
       "      <td></td>\n",
       "      <td></td>\n",
       "      <td></td>\n",
       "    </tr>\n",
       "    <tr>\n",
       "      <th>chainId</th>\n",
       "      <td>467294.0</td>\n",
       "      <td>2836</td>\n",
       "      <td>A</td>\n",
       "      <td>135187</td>\n",
       "      <td></td>\n",
       "      <td></td>\n",
       "      <td></td>\n",
       "      <td></td>\n",
       "      <td></td>\n",
       "      <td></td>\n",
       "      <td></td>\n",
       "    </tr>\n",
       "    <tr>\n",
       "      <th>sequence</th>\n",
       "      <td>467276.0</td>\n",
       "      <td>104812</td>\n",
       "      <td>PIVQNLQGQMVHQAISPRTLNAWVKVVEEKAFSPEVIPMFSALSEG...</td>\n",
       "      <td>5112</td>\n",
       "      <td></td>\n",
       "      <td></td>\n",
       "      <td></td>\n",
       "      <td></td>\n",
       "      <td></td>\n",
       "      <td></td>\n",
       "      <td></td>\n",
       "    </tr>\n",
       "    <tr>\n",
       "      <th>residueCount</th>\n",
       "      <td>467304.0</td>\n",
       "      <td></td>\n",
       "      <td></td>\n",
       "      <td></td>\n",
       "      <td>6173.43</td>\n",
       "      <td>23645.6</td>\n",
       "      <td>0</td>\n",
       "      <td>456</td>\n",
       "      <td>1131</td>\n",
       "      <td>4342</td>\n",
       "      <td>313236</td>\n",
       "    </tr>\n",
       "    <tr>\n",
       "      <th>macromoleculeType</th>\n",
       "      <td>432487.0</td>\n",
       "      <td>13</td>\n",
       "      <td>Protein</td>\n",
       "      <td>345180</td>\n",
       "      <td></td>\n",
       "      <td></td>\n",
       "      <td></td>\n",
       "      <td></td>\n",
       "      <td></td>\n",
       "      <td></td>\n",
       "      <td></td>\n",
       "    </tr>\n",
       "  </tbody>\n",
       "</table>\n",
       "</div>"
      ],
      "text/plain": [
       "                      count  unique  \\\n",
       "structureId        467304.0  140250   \n",
       "chainId            467294.0    2836   \n",
       "sequence           467276.0  104812   \n",
       "residueCount       467304.0           \n",
       "macromoleculeType  432487.0      13   \n",
       "\n",
       "                                                                 top    freq  \\\n",
       "structureId                                                     3J3Q    1356   \n",
       "chainId                                                            A  135187   \n",
       "sequence           PIVQNLQGQMVHQAISPRTLNAWVKVVEEKAFSPEVIPMFSALSEG...    5112   \n",
       "residueCount                                                                   \n",
       "macromoleculeType                                            Protein  345180   \n",
       "\n",
       "                      mean      std min  25%   50%   75%     max  \n",
       "structureId                                                       \n",
       "chainId                                                           \n",
       "sequence                                                          \n",
       "residueCount       6173.43  23645.6   0  456  1131  4342  313236  \n",
       "macromoleculeType                                                 "
      ]
     },
     "execution_count": 11,
     "metadata": {},
     "output_type": "execute_result"
    }
   ],
   "source": [
    "pdb_seq.describe(include=\"all\").T.fillna(\"\")"
   ]
  },
  {
   "cell_type": "code",
   "execution_count": 12,
   "metadata": {},
   "outputs": [
    {
     "data": {
      "text/plain": [
       "structureId          object\n",
       "chainId              object\n",
       "sequence             object\n",
       "residueCount          int64\n",
       "macromoleculeType    object\n",
       "dtype: object"
      ]
     },
     "execution_count": 12,
     "metadata": {},
     "output_type": "execute_result"
    }
   ],
   "source": [
    "pdb_seq.dtypes"
   ]
  },
  {
   "cell_type": "markdown",
   "metadata": {},
   "source": [
    "> Se construirá la función ```triple_distribution_plot```, a partir del paquete ```seaborn```. Esta función nos permitirá la distribución de tres categorías disponibles en las bases de datos. </br>\n",
    "> De esta forma, se procederá a estudiar las distribuciones de los valores según nuestro interés."
   ]
  },
  {
   "cell_type": "code",
   "execution_count": 16,
   "metadata": {},
   "outputs": [],
   "source": [
    "def triple_distribution_plot(df, input1, input2, input3):\n",
    "    f, (ax1,ax2,ax3) = plt.subplots(1,3,figsize=(15,5))\n",
    "    \n",
    "    sns.kdeplot(df[input1],ax = ax1,color ='blue',shade=True,\n",
    "                label=(\"Asimetría : %.2f\"%(df[input1].skew()),\n",
    "                       \"Curtosis: %.2f\"%(df[input1].kurtosis())))\n",
    "    sns.kdeplot(df[input2], ax = ax2,color='r',shade=True,\n",
    "                label=(\"Asimetría : %.2f\"%(df[input2].skew()),\n",
    "                       \"Curtosis: %.2f\"%(df[input2].kurtosis())))\n",
    "    sns.kdeplot(df[input3], ax = ax3,color='gray',shade=True,\n",
    "                label=(\"Asimetría : %.2f\"%(df[input3].skew()),\n",
    "                       \"Curtosis: %.2f\"%(df[input3].kurtosis())))\n",
    "    \n",
    "    axes = [ax1,ax2,ax3]\n",
    "    input = [input1,input2,input3]\n",
    "    \n",
    "    for j in range(len(axes)):\n",
    "        axes[j].set_xlabel(input[j],color='black',fontsize=12)\n",
    "        axes[j].set_title(input[j], fontsize=14)\n",
    "        axes[j].axvline(df[input[j]].mean() , color ='g',linestyle = '--')\n",
    "        axes[j].legend(loc ='upper right',fontsize=12,ncol=2)\n",
    "    sns.despine()\n",
    "    \n",
    "    return plt.show()"
   ]
  },
  {
   "cell_type": "code",
   "execution_count": 17,
   "metadata": {},
   "outputs": [
    {
     "data": {
      "image/png": "[encoded data removed]",
      "text/plain": [
       "<Figure size 1080x360 with 3 Axes>"
      ]
     },
     "metadata": {
      "needs_background": "light"
     },
     "output_type": "display_data"
    },
    {
     "data": {
      "image/png": "[encoded data removed]",
      "text/plain": [
       "<Figure size 1080x360 with 3 Axes>"
      ]
     },
     "metadata": {
      "needs_background": "light"
     },
     "output_type": "display_data"
    }
   ],
   "source": [
    "triple_distribution_plot(pdb_no_dups, 'resolution','residueCount','structureMolecularWeight')\n",
    "triple_distribution_plot(pdb_no_dups, 'densityMatthews','densityPercentSol','phValue')"
   ]
  },
  {
   "cell_type": "code",
   "execution_count": null,
   "metadata": {},
   "outputs": [],
   "source": [
    "sns.pairplot(pdb_no_dups)\n",
    "sns.set(style=\"ticks\", color_codes=True)"
   ]
  },
  {
   "cell_type": "code",
   "execution_count": null,
   "metadata": {},
   "outputs": [],
   "source": [
    "sns.pairplot(pdb_no_dups[['densityMatthews','densityPercentSol']], height = 5)\n",
    "sns.set(style=\"ticks\", color_codes=True)"
   ]
  },
  {
   "cell_type": "markdown",
   "metadata": {},
   "source": [
    "## Estadística descriptiva"
   ]
  },
  {
   "cell_type": "markdown",
   "metadata": {},
   "source": [
    "a"
   ]
  },
  {
   "cell_type": "markdown",
   "metadata": {},
   "source": []
  },
  {
   "cell_type": "markdown",
   "metadata": {},
   "source": [
    "## Visualización descriptiva"
   ]
  },
  {
   "cell_type": "markdown",
   "metadata": {},
   "source": [
    "a"
   ]
  },
  {
   "cell_type": "code",
   "execution_count": null,
   "metadata": {},
   "outputs": [],
   "source": []
  },
  {
   "cell_type": "markdown",
   "metadata": {},
   "source": [
    "## Preprocesamiento"
   ]
  },
  {
   "cell_type": "markdown",
   "metadata": {},
   "source": [
    "a"
   ]
  },
  {
   "cell_type": "markdown",
   "metadata": {},
   "source": []
  },
  {
   "cell_type": "markdown",
   "metadata": {},
   "source": [
    "## Selección de modelo"
   ]
  },
  {
   "cell_type": "markdown",
   "metadata": {},
   "source": [
    "a"
   ]
  },
  {
   "cell_type": "code",
   "execution_count": null,
   "metadata": {},
   "outputs": [],
   "source": []
  },
  {
   "cell_type": "markdown",
   "metadata": {},
   "source": [
    "## Métricas y análisis de resultados"
   ]
  },
  {
   "cell_type": "markdown",
   "metadata": {},
   "source": [
    "a"
   ]
  },
  {
   "cell_type": "markdown",
   "metadata": {},
   "source": []
  },
  {
   "cell_type": "markdown",
   "metadata": {},
   "source": [
    "## Visualizaciones del modelo"
   ]
  },
  {
   "cell_type": "markdown",
   "metadata": {},
   "source": [
    "a"
   ]
  },
  {
   "cell_type": "markdown",
   "metadata": {},
   "source": [
    "## Conclusiones"
   ]
  },
  {
   "cell_type": "markdown",
   "metadata": {},
   "source": [
    "a"
   ]
  },
  {
   "cell_type": "code",
   "execution_count": null,
   "metadata": {},
   "outputs": [],
   "source": []
  }
 ],
 "metadata": {
  "kernelspec": {
   "display_name": "Python 3",
   "language": "python",
   "name": "python3"
  },
  "language_info": {
   "codemirror_mode": {
    "name": "ipython",
    "version": 3
   },
   "file_extension": ".py",
   "mimetype": "text/x-python",
   "name": "python",
   "nbconvert_exporter": "python",
   "pygments_lexer": "ipython3",
   "version": "3.7.8"
  }
 },
 "nbformat": 4,
 "nbformat_minor": 4
}
